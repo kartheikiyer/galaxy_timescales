{
 "cells": [
  {
   "cell_type": "markdown",
   "metadata": {},
   "source": [
    "# to see if there are features in the spectra corresponding to the timescales, perhaps an alternate approach might be to:\n",
    "\n",
    "1. generate spectra by randomly sampling different values of the kernel parameters, randomly sampling values\n",
    "2. train a network to predict the kernel parameters + mass, sfr based on an input spectrum, \n",
    "3. if step 2 works, run a feature importance analysis to see which parts of the spectra are most important for predicting each kernel parameter / timescale."
   ]
  },
  {
   "cell_type": "code",
   "execution_count": null,
   "metadata": {},
   "outputs": [],
   "source": []
  }
 ],
 "metadata": {
  "kernelspec": {
   "display_name": "Python 3",
   "language": "python",
   "name": "python3"
  },
  "language_info": {
   "codemirror_mode": {
    "name": "ipython",
    "version": 3
   },
   "file_extension": ".py",
   "mimetype": "text/x-python",
   "name": "python",
   "nbconvert_exporter": "python",
   "pygments_lexer": "ipython3",
   "version": "3.7.3"
  }
 },
 "nbformat": 4,
 "nbformat_minor": 2
}
